{
  "nbformat": 4,
  "nbformat_minor": 0,
  "metadata": {
    "colab": {
      "provenance": [],
      "include_colab_link": true
    },
    "kernelspec": {
      "name": "python3",
      "display_name": "Python 3"
    },
    "language_info": {
      "name": "python"
    }
  },
  "cells": [
    {
      "cell_type": "markdown",
      "metadata": {
        "id": "view-in-github",
        "colab_type": "text"
      },
      "source": [
        "<a href=\"https://colab.research.google.com/github/Abvgdegz02/Python/blob/main/RPS_Tournament.ipynb\" target=\"_parent\"><img src=\"https://colab.research.google.com/assets/colab-badge.svg\" alt=\"Open In Colab\"/></a>"
      ]
    },
    {
      "cell_type": "code",
      "source": [
        "import numpy as np\n",
        "import pandas as pd\n",
        "import random\n",
        "\n",
        "import matplotlib.pyplot as plt\n",
        "import seaborn as sns\n",
        "\n",
        "from kaggle_environments import make, evaluate"
      ],
      "metadata": {
        "id": "yz23vWHD0wcj"
      },
      "execution_count": null,
      "outputs": []
    },
    {
      "cell_type": "markdown",
      "source": [
        "1. Опишем поведение агента, всегда играющего \"камень\" - это значение 0"
      ],
      "metadata": {
        "id": "0kuo6IOxiRub"
      }
    },
    {
      "cell_type": "code",
      "source": [
        "%%writefile rock_agent.py\n",
        "\n",
        "# 1. Всегда возвращает камень\n",
        "def rock_agent(observation, configuration):\n",
        "    return 0"
      ],
      "metadata": {
        "colab": {
          "base_uri": "https://localhost:8080/"
        },
        "id": "hRwwDJNNLTe7",
        "outputId": "d61e0b99-3f20-41f9-db34-5fbfb0e6db81"
      },
      "execution_count": 16,
      "outputs": [
        {
          "output_type": "stream",
          "name": "stdout",
          "text": [
            "Overwriting rock_agent.py\n"
          ]
        }
      ]
    },
    {
      "cell_type": "markdown",
      "source": [
        "2. Опишем поведение агента, всегда играющего \"бумагу\" - это значение 1"
      ],
      "metadata": {
        "id": "T2c6htZ8X2sV"
      }
    },
    {
      "cell_type": "code",
      "source": [
        "%%writefile paper_agent.py\n",
        "\n",
        "# 2. Всегда возвращает бумагу\n",
        "def paper_agent(observation, configuration):\n",
        "    return 1"
      ],
      "metadata": {
        "colab": {
          "base_uri": "https://localhost:8080/"
        },
        "id": "xm6foxlXLgmk",
        "outputId": "c5569aca-a4f3-470b-9040-61a4118d4b31"
      },
      "execution_count": null,
      "outputs": [
        {
          "output_type": "stream",
          "name": "stdout",
          "text": [
            "Writing paper_agent.py\n"
          ]
        }
      ]
    },
    {
      "cell_type": "markdown",
      "source": [
        "3. Опишем поведение агента, всегда играющего \"ножницы\" - это значение 2"
      ],
      "metadata": {
        "id": "nM_DjRG9X_qU"
      }
    },
    {
      "cell_type": "code",
      "source": [
        "%%writefile scissors_agent.py\n",
        "\n",
        "# 3. Всегда возвращает ножницы\n",
        "def scissors_agent(observation, configuration):\n",
        "    return 2"
      ],
      "metadata": {
        "colab": {
          "base_uri": "https://localhost:8080/"
        },
        "id": "X4jLMGNtLghD",
        "outputId": "dbdbb6cb-d09d-47c5-b0c1-cef905b87a6d"
      },
      "execution_count": null,
      "outputs": [
        {
          "output_type": "stream",
          "name": "stdout",
          "text": [
            "Writing scissors_agent.py\n"
          ]
        }
      ]
    },
    {
      "cell_type": "markdown",
      "source": [
        "4. Опишем поведение агента, который копирует ход опонента или ходит случайно"
      ],
      "metadata": {
        "id": "F_z9cBfpYCl0"
      }
    },
    {
      "cell_type": "code",
      "source": [
        "%%writefile copy_opponent_agent.py\n",
        "import random\n",
        "\n",
        "# 4. Копирует ход опонента или ходит случайно\n",
        "def copy_opponent_agent(observation, configuration):\n",
        "    if observation.step > 0:\n",
        "        return observation.lastOpponentAction\n",
        "    else:\n",
        "        return random.randrange(0, configuration.signs)"
      ],
      "metadata": {
        "colab": {
          "base_uri": "https://localhost:8080/"
        },
        "id": "LNnjovB8Lgav",
        "outputId": "394cafcf-4108-4181-f12a-ada401ccf31e"
      },
      "execution_count": null,
      "outputs": [
        {
          "output_type": "stream",
          "name": "stdout",
          "text": [
            "Writing copy_opponent_agent.py\n"
          ]
        }
      ]
    },
    {
      "cell_type": "markdown",
      "source": [
        "5. Опишем поведение агента, который возвращает случаное значение"
      ],
      "metadata": {
        "id": "Na55HUk5YMhB"
      }
    },
    {
      "cell_type": "code",
      "source": [
        "%%writefile random_agent.py\n",
        "import random\n",
        "\n",
        "# 5. Возвращает случаное значение\n",
        "def random_agent(observation, configuration):\n",
        "    return random.randrange(0, configuration.signs)"
      ],
      "metadata": {
        "colab": {
          "base_uri": "https://localhost:8080/"
        },
        "id": "PM5onMTYLTvQ",
        "outputId": "6ace1ba7-cf3c-4013-9071-61f235196184"
      },
      "execution_count": null,
      "outputs": [
        {
          "output_type": "stream",
          "name": "stdout",
          "text": [
            "Writing random_agent.py\n"
          ]
        }
      ]
    },
    {
      "cell_type": "markdown",
      "source": [
        "6. Опишем поведение агента, который возвращает камень и ножницы по нечетным ходам и бумагу по четным"
      ],
      "metadata": {
        "id": "_3g_3I_-YahY"
      }
    },
    {
      "cell_type": "code",
      "source": [
        "%%writefile even_odd_agent.py\n",
        "import random\n",
        "\n",
        "# 6. Возвращает камень и ножницы по нечетным ходам и бумагу по четным\n",
        "def even_odd_agent(observation, configuration):\n",
        "    if observation.step % 2 != 0:\n",
        "        return random.randrange(0, 3)\n",
        "    else:\n",
        "        return 1"
      ],
      "metadata": {
        "colab": {
          "base_uri": "https://localhost:8080/"
        },
        "id": "MZhQM_r8LT8X",
        "outputId": "21acb74a-270a-4341-d027-3d6a12d45438"
      },
      "execution_count": null,
      "outputs": [
        {
          "output_type": "stream",
          "name": "stdout",
          "text": [
            "Writing even_odd_agent.py\n"
          ]
        }
      ]
    },
    {
      "cell_type": "markdown",
      "source": [
        "7. Опишем поведение агента, который возвращает победное значение относительно последнего хода опонента или ходит случайно"
      ],
      "metadata": {
        "id": "e6DUpKytYa4c"
      }
    },
    {
      "cell_type": "code",
      "source": [
        "%%writefile counter_win_agent.py\n",
        "import random\n",
        "\n",
        "# 7. Возвращает победное значение относительно последнего хода опонента или ходит случайно\n",
        "def counter_win_agent(observation, configuration):\n",
        "    if observation.step > 0:\n",
        "        if observation.lastOpponentAction == 0:\n",
        "            return 1\n",
        "        elif observation.lastOpponentAction == 1:\n",
        "            return 2\n",
        "        else:\n",
        "            return 0\n",
        "    else:\n",
        "        return random.randrange(0, configuration.signs)"
      ],
      "metadata": {
        "colab": {
          "base_uri": "https://localhost:8080/"
        },
        "id": "Zh6y_eUiLUI6",
        "outputId": "0014e55a-a08f-4c88-e2ac-4be3802625f7"
      },
      "execution_count": null,
      "outputs": [
        {
          "output_type": "stream",
          "name": "stdout",
          "text": [
            "Writing counter_win_agent.py\n"
          ]
        }
      ]
    },
    {
      "cell_type": "markdown",
      "source": [
        "8. Опишем поведение агента, который возвращает проигрышное значение относительно последнего хода опонента или ходит случайно"
      ],
      "metadata": {
        "id": "arjLXX5xY2LT"
      }
    },
    {
      "cell_type": "code",
      "source": [
        "%%writefile counter_lose_agent.py\n",
        "import random\n",
        "\n",
        "# 8. Возвращает проигрышное значение относительно последнего хода опонента или ходит случайно\n",
        "def counter_lose_agent(observation, configuration):\n",
        "    if observation.step > 0:\n",
        "        if observation.lastOpponentAction == 0:\n",
        "            return 2\n",
        "        elif observation.lastOpponentAction == 1:\n",
        "            return 0\n",
        "        else:\n",
        "            return 1\n",
        "    else:\n",
        "        return random.randrange(0, configuration.signs)"
      ],
      "metadata": {
        "colab": {
          "base_uri": "https://localhost:8080/"
        },
        "id": "ulzODW1bLUWY",
        "outputId": "2ff87d91-9893-4513-895c-eac20bae26d9"
      },
      "execution_count": null,
      "outputs": [
        {
          "output_type": "stream",
          "name": "stdout",
          "text": [
            "Writing counter_lose_agent.py\n"
          ]
        }
      ]
    },
    {
      "cell_type": "markdown",
      "source": [
        "9. Опишем поведение агента, который ходит циклично"
      ],
      "metadata": {
        "id": "I687syb1Y9bf"
      }
    },
    {
      "cell_type": "code",
      "source": [
        "%%writefile cycle_agent.py\n",
        "\n",
        "# 9. Ходит циклично\n",
        "def cycle_agent(observation, configuration):\n",
        "    return observation.step % 3"
      ],
      "metadata": {
        "colab": {
          "base_uri": "https://localhost:8080/"
        },
        "id": "Er3VCHZBLUhh",
        "outputId": "5387c8fa-f0a8-4732-ece3-d7ed9da73c78"
      },
      "execution_count": null,
      "outputs": [
        {
          "output_type": "stream",
          "name": "stdout",
          "text": [
            "Writing cycle_agent.py\n"
          ]
        }
      ]
    },
    {
      "cell_type": "markdown",
      "source": [
        "10. Опишем поведение агента, который возвращает решение основываясь на статистике"
      ],
      "metadata": {
        "id": "-2kWNFWjZCl4"
      }
    },
    {
      "cell_type": "code",
      "source": [
        "%%writefile statistic_agent.py\n",
        "import random\n",
        "# Объявляем список, в который будем записывать ходы оппонента\n",
        "last_moves = []\n",
        "# 10. Возвращает решение основываясь на статистике\n",
        "def statistic_agent(observation, configuration):\n",
        "    # Обнуляем список ходов при каждой новой игре\n",
        "    if observation.step == 0:\n",
        "        # Объявляем переменную глобальной, чтобы с ней можно было взаимодействовать\n",
        "        global last_moves\n",
        "        last_moves = []\n",
        "    if observation.step > 0:\n",
        "        last_moves.append(observation.lastOpponentAction)\n",
        "        if last_moves.count(0) > last_moves.count(1) and last_moves.count(0) > last_moves.count(2):\n",
        "            return 1\n",
        "        elif last_moves.count(1) > last_moves.count(0) and last_moves.count(1) > last_moves.count(2):\n",
        "            return 2\n",
        "        else:\n",
        "            return 0\n",
        "    else:\n",
        "        return random.randrange(0, configuration.signs)"
      ],
      "metadata": {
        "colab": {
          "base_uri": "https://localhost:8080/"
        },
        "id": "vlwZUv7ALUuu",
        "outputId": "7d589ffa-4cc8-40af-c655-5cdb0bace883"
      },
      "execution_count": null,
      "outputs": [
        {
          "output_type": "stream",
          "name": "stdout",
          "text": [
            "Writing statistic_agent.py\n"
          ]
        }
      ]
    },
    {
      "cell_type": "markdown",
      "source": [
        "11. Опишем поведение агента, который возвращает случайное решение, но у каждого элемента есть вес"
      ],
      "metadata": {
        "id": "FcmEfBxRZt0-"
      }
    },
    {
      "cell_type": "code",
      "source": [
        "%%writefile weighted_random_agent.py\n",
        "import random\n",
        "\n",
        "# 11. Возвращает случайное решение, но у каждого элемента есть вес\n",
        "def weighted_random_agent(observation, configuration):\n",
        "    weights = [0.5, 0.3, 0.2]\n",
        "    return random.choices([0, 1, 2], weights=weights)[0]"
      ],
      "metadata": {
        "colab": {
          "base_uri": "https://localhost:8080/"
        },
        "id": "QxbjbiUkLU6Y",
        "outputId": "c62056a9-7ef7-4ec9-fec2-10e961db8444"
      },
      "execution_count": null,
      "outputs": [
        {
          "output_type": "stream",
          "name": "stdout",
          "text": [
            "Writing weighted_random_agent.py\n"
          ]
        }
      ]
    },
    {
      "cell_type": "markdown",
      "source": [
        "12. Опишем поведение агента, который возвращает решение, изменяя вес элемента, в зависимости от хода оппонента"
      ],
      "metadata": {
        "id": "c-ol4oqIZylY"
      }
    },
    {
      "cell_type": "code",
      "source": [
        "%%writefile adaptive_weighted_agent.py\n",
        "import random\n",
        "\n",
        "# 12. Возвращает решение, изменяя вес элемента, в зависимости от хода оппонента\n",
        "def adaptive_weighted_agent(observation, configuration):\n",
        "    if observation.step == 0:\n",
        "        return random.randint(0, 2)\n",
        "    # Инициализация весов, если они еще не установлены\n",
        "    if not hasattr(adaptive_weighted_agent, \"weights\"):\n",
        "        adaptive_weighted_agent.weights = [0.33, 0.33, 0.34]\n",
        "\n",
        "    last_action = observation.lastOpponentAction\n",
        "    # Изменяет вес элемента, в зависимости от предыдущего хода оппонента\n",
        "    if last_action == 0:\n",
        "        adaptive_weighted_agent.weights[1] += 0.05\n",
        "        adaptive_weighted_agent.weights[2] -= 0.05\n",
        "    elif last_action == 1:\n",
        "        adaptive_weighted_agent.weights[2] += 0.05\n",
        "        adaptive_weighted_agent.weights[0] -= 0.05\n",
        "    else:\n",
        "        adaptive_weighted_agent.weights[0] += 0.05\n",
        "        adaptive_weighted_agent.weights[1] -= 0.05\n",
        "\n",
        "    # Нормализуем веса, чтобы их сумма была равна 1\n",
        "    total_weight = sum(adaptive_weighted_agent.weights)\n",
        "    adaptive_weighted_agent.weights = [item / total_weight for item in adaptive_weighted_agent.weights]\n",
        "\n",
        "    return random.choices([0, 1, 2], weights=adaptive_weighted_agent.weights)[0]"
      ],
      "metadata": {
        "colab": {
          "base_uri": "https://localhost:8080/"
        },
        "id": "_4uGzDItLVFn",
        "outputId": "20c27133-2b20-4c3b-ba52-72691a1bd0f8"
      },
      "execution_count": null,
      "outputs": [
        {
          "output_type": "stream",
          "name": "stdout",
          "text": [
            "Writing adaptive_weighted_agent.py\n"
          ]
        }
      ]
    },
    {
      "cell_type": "markdown",
      "source": [
        "Воспользуемся функцией evaluate из библиотеки kaggle_environments с помощью которой запустим наших агентов и проведем эксперимент на заданном количестве игр"
      ],
      "metadata": {
        "id": "ExgIpXUVjbjN"
      }
    },
    {
      "cell_type": "code",
      "source": [
        "# Создаем список agent, в который записываем всех агентов\n",
        "agents = [\n",
        "    \"rock_agent.py\",\n",
        "    \"paper_agent.py\",\n",
        "    \"scissors_agent.py\",\n",
        "    \"copy_opponent_agent.py\",\n",
        "    \"random_agent.py\",\n",
        "    \"even_odd_agent.py\",\n",
        "    \"counter_win_agent.py\",\n",
        "    \"counter_lose_agent.py\",\n",
        "    \"cycle_agent.py\",\n",
        "    \"statistic_agent.py\",\n",
        "    \"weighted_random_agent.py\",\n",
        "    \"adaptive_weighted_agent.py\"\n",
        "]\n",
        "\n",
        "# Создаем словарь, в котором будем вести статистику\n",
        "dictionary = {}\n",
        "# Итерируем по всем парам агентов\n",
        "for i in range(len(agents)):\n",
        "    for j in range(i, len(agents)):\n",
        "        # Избегаем матчей, где агент играет сам с собой\n",
        "        if i != j:\n",
        "            # Результат раунда записывается в переменную result\n",
        "            result = evaluate(\n",
        "                \"rps\",\n",
        "                [agents[i], agents[j]],\n",
        "                configuration={\"episodeSteps\": 100}\n",
        "            )\n",
        "            # Если агента нет в словаре, то добавляем его и присваиваем результат\n",
        "            if agents[i] not in dictionary:\n",
        "                dictionary[agents[i]] = result[0][0]\n",
        "            # Если есть, то прибавляем результат к имеющемуся значению\n",
        "            else:\n",
        "                dictionary[agents[i]] += result[0][0]\n",
        "\n",
        "            if agents[j] not in dictionary:\n",
        "                dictionary[agents[j]] = result[0][1]\n",
        "            else:\n",
        "                dictionary[agents[j]] += result[0][1]\n",
        "            # После каждого раунда выводим результаты матча и его участников\n",
        "            print(f\"Результаты матча между {agents[i]} и {agents[j]}: {result}\")\n",
        "\n",
        "# Разделитель для читаемости вывода\n",
        "print('\\n'*2)\n",
        "\n",
        "# Выводим статистку каждого агента\n",
        "for item in dictionary:\n",
        "    print(f'Статистика агента \"{item}\" за турнир составляет: {dictionary.get(item)}')\n",
        "\n",
        "# Разделитель для читаемости вывода\n",
        "print('\\n'*2)\n",
        "\n",
        "# Находим победителя турнира\n",
        "maximum = max(dictionary, key = dictionary.get)\n",
        "maximum_value = dictionary.get(maximum)\n",
        "print(f'Победителем турнира стал агент \"{maximum}\", набравший: {maximum_value} очков')\n",
        "\n",
        "# Разделитель для читаемости вывода\n",
        "print('\\n'*2)\n",
        "\n",
        "# Создаем график\n",
        "import matplotlib.pyplot as plt\n",
        "import pandas as pd\n",
        "\n",
        "# Преобразуем словарь в список и создаем датафрейм\n",
        "df = pd.DataFrame(list(dictionary.items()), columns=['Агент', 'Победы'])\n",
        "\n",
        "# Рисуем столбцы\n",
        "plt.figure(figsize=(10, 6))\n",
        "plt.bar(df['Агент'], df['Победы'], color='skyblue')\n",
        "\n",
        "# Создаем подписи\n",
        "plt.xlabel('Агент', fontsize=12)\n",
        "plt.ylabel('Количество побед', fontsize=12)\n",
        "plt.title('Резльтативность агентов', fontsize=14)\n",
        "\n",
        "for index, value in enumerate(df['Победы']):\n",
        "    plt.text(index, value + 0.5, str(value), ha='center', fontsize=10)\n",
        "\n",
        "# Поворачиваем текст\n",
        "plt.xticks(rotation=90)\n",
        "plt.tight_layout()\n",
        "plt.show()"
      ],
      "metadata": {
        "id": "FC6_QWe9k3rr",
        "colab": {
          "base_uri": "https://localhost:8080/",
          "height": 1000
        },
        "outputId": "aa82bbed-89b1-4970-cd42-352cf94a4b82"
      },
      "execution_count": null,
      "outputs": [
        {
          "output_type": "stream",
          "name": "stdout",
          "text": [
            "Результаты матча между rock_agent.py и paper_agent.py: [[-99.0, 99.0]]\n",
            "Результаты матча между rock_agent.py и scissors_agent.py: [[99.0, -99.0]]\n",
            "Результаты матча между rock_agent.py и copy_opponent_agent.py: [[0, 0]]\n",
            "Результаты матча между rock_agent.py и random_agent.py: [[0, 0]]\n",
            "Результаты матча между rock_agent.py и even_odd_agent.py: [[-53.0, 53.0]]\n",
            "Результаты матча между rock_agent.py и counter_win_agent.py: [[-97.0, 97.0]]\n",
            "Результаты матча между rock_agent.py и counter_lose_agent.py: [[97.0, -97.0]]\n",
            "Результаты матча между rock_agent.py и cycle_agent.py: [[0, 0]]\n",
            "Результаты матча между rock_agent.py и statistic_agent.py: [[-99.0, 99.0]]\n",
            "Результаты матча между rock_agent.py и weighted_random_agent.py: [[-23.0, 23.0]]\n",
            "Результаты матча между rock_agent.py и adaptive_weighted_agent.py: [[-64.0, 64.0]]\n",
            "Результаты матча между paper_agent.py и scissors_agent.py: [[-99.0, 99.0]]\n",
            "Результаты матча между paper_agent.py и copy_opponent_agent.py: [[0, 0]]\n",
            "Результаты матча между paper_agent.py и random_agent.py: [[0, 0]]\n",
            "Результаты матча между paper_agent.py и even_odd_agent.py: [[0, 0]]\n",
            "Результаты матча между paper_agent.py и counter_win_agent.py: [[-97.0, 97.0]]\n",
            "Результаты матча между paper_agent.py и counter_lose_agent.py: [[98.0, -98.0]]\n",
            "Результаты матча между paper_agent.py и cycle_agent.py: [[0, 0]]\n",
            "Результаты матча между paper_agent.py и statistic_agent.py: [[-99.0, 99.0]]\n",
            "Результаты матча между paper_agent.py и weighted_random_agent.py: [[33.0, -33.0]]\n",
            "Результаты матча между paper_agent.py и adaptive_weighted_agent.py: [[-95.0, 95.0]]\n",
            "Результаты матча между scissors_agent.py и copy_opponent_agent.py: [[0, 0]]\n",
            "Результаты матча между scissors_agent.py и random_agent.py: [[0, 0]]\n",
            "Результаты матча между scissors_agent.py и even_odd_agent.py: [[54.0, -54.0]]\n",
            "Результаты матча между scissors_agent.py и counter_win_agent.py: [[-99.0, 99.0]]\n",
            "Результаты матча между scissors_agent.py и counter_lose_agent.py: [[97.0, -97.0]]\n",
            "Результаты матча между scissors_agent.py и cycle_agent.py: [[0, 0]]\n",
            "Результаты матча между scissors_agent.py и statistic_agent.py: [[-98.0, 98.0]]\n",
            "Результаты матча между scissors_agent.py и weighted_random_agent.py: [[-28.0, 28.0]]\n",
            "Результаты матча между scissors_agent.py и adaptive_weighted_agent.py: [[-60.0, 60.0]]\n",
            "Результаты матча между copy_opponent_agent.py и random_agent.py: [[0, 0]]\n",
            "Результаты матча между copy_opponent_agent.py и even_odd_agent.py: [[0, 0]]\n",
            "Результаты матча между copy_opponent_agent.py и counter_win_agent.py: [[-49.0, 49.0]]\n",
            "Результаты матча между copy_opponent_agent.py и counter_lose_agent.py: [[49.0, -49.0]]\n",
            "Результаты матча между copy_opponent_agent.py и cycle_agent.py: [[-98.0, 98.0]]\n",
            "Результаты матча между copy_opponent_agent.py и statistic_agent.py: [[0, 0]]\n",
            "Результаты матча между copy_opponent_agent.py и weighted_random_agent.py: [[0, 0]]\n",
            "Результаты матча между copy_opponent_agent.py и adaptive_weighted_agent.py: [[0, 0]]\n",
            "Результаты матча между random_agent.py и even_odd_agent.py: [[0, 0]]\n",
            "Результаты матча между random_agent.py и counter_win_agent.py: [[0, 0]]\n",
            "Результаты матча между random_agent.py и counter_lose_agent.py: [[0, 0]]\n",
            "Результаты матча между random_agent.py и cycle_agent.py: [[0, 0]]\n",
            "Результаты матча между random_agent.py и statistic_agent.py: [[0, 0]]\n",
            "Результаты матча между random_agent.py и weighted_random_agent.py: [[0, 0]]\n",
            "Результаты матча между random_agent.py и adaptive_weighted_agent.py: [[0, 0]]\n",
            "Результаты матча между even_odd_agent.py и counter_win_agent.py: [[0, 0]]\n",
            "Результаты матча между even_odd_agent.py и counter_lose_agent.py: [[0, 0]]\n",
            "Результаты матча между even_odd_agent.py и cycle_agent.py: [[0, 0]]\n",
            "Результаты матча между even_odd_agent.py и statistic_agent.py: [[-53.0, 53.0]]\n",
            "Результаты матча между even_odd_agent.py и weighted_random_agent.py: [[32.0, -32.0]]\n",
            "Результаты матча между even_odd_agent.py и adaptive_weighted_agent.py: [[-52.0, 52.0]]\n",
            "Результаты матча между counter_win_agent.py и counter_lose_agent.py: [[99.0, -99.0]]\n",
            "Результаты матча между counter_win_agent.py и cycle_agent.py: [[0, 0]]\n",
            "Результаты матча между counter_win_agent.py и statistic_agent.py: [[0, 0]]\n",
            "Результаты матча между counter_win_agent.py и weighted_random_agent.py: [[0, 0]]\n",
            "Результаты матча между counter_win_agent.py и adaptive_weighted_agent.py: [[0, 0]]\n",
            "Результаты матча между counter_lose_agent.py и cycle_agent.py: [[98.0, -98.0]]\n",
            "Результаты матча между counter_lose_agent.py и statistic_agent.py: [[-99.0, 99.0]]\n",
            "Результаты матча между counter_lose_agent.py и weighted_random_agent.py: [[0, 0]]\n",
            "Результаты матча между counter_lose_agent.py и adaptive_weighted_agent.py: [[-86.0, 86.0]]\n",
            "Результаты матча между cycle_agent.py и statistic_agent.py: [[-32.0, 32.0]]\n",
            "Результаты матча между cycle_agent.py и weighted_random_agent.py: [[0, 0]]\n",
            "Результаты матча между cycle_agent.py и adaptive_weighted_agent.py: [[0, 0]]\n",
            "Результаты матча между statistic_agent.py и weighted_random_agent.py: [[0, 0]]\n",
            "Результаты матча между statistic_agent.py и adaptive_weighted_agent.py: [[0, 0]]\n",
            "Результаты матча между weighted_random_agent.py и adaptive_weighted_agent.py: [[-24.0, 24.0]]\n",
            "\n",
            "\n",
            "\n",
            "Статистика агента \"rock_agent.py\" за турнир составляет: -239.0\n",
            "Статистика агента \"paper_agent.py\" за турнир составляет: -160.0\n",
            "Статистика агента \"scissors_agent.py\" за турнир составляет: -134.0\n",
            "Статистика агента \"copy_opponent_agent.py\" за турнир составляет: -98.0\n",
            "Статистика агента \"random_agent.py\" за турнир составляет: 0\n",
            "Статистика агента \"even_odd_agent.py\" за турнир составляет: -74.0\n",
            "Статистика агента \"counter_win_agent.py\" за турнир составляет: 441.0\n",
            "Статистика агента \"counter_lose_agent.py\" за турнир составляет: -527.0\n",
            "Статистика агента \"cycle_agent.py\" за турнир составляет: -32.0\n",
            "Статистика агента \"statistic_agent.py\" за турнир составляет: 480.0\n",
            "Статистика агента \"weighted_random_agent.py\" за турнир составляет: -38.0\n",
            "Статистика агента \"adaptive_weighted_agent.py\" за турнир составляет: 381.0\n",
            "\n",
            "\n",
            "\n",
            "Победителем турнира стал агент \"statistic_agent.py\", набравший: 480.0 очков\n",
            "\n",
            "\n",
            "\n"
          ]
        },
        {
          "output_type": "display_data",
          "data": {
            "text/plain": [
              "<Figure size 1000x600 with 1 Axes>"
            ],
            "image/png": "[encoded data removed]"
          },
          "metadata": {}
        }
      ]
    }
  ]
}